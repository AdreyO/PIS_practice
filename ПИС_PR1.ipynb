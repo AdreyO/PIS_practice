{
  "nbformat": 4,
  "nbformat_minor": 0,
  "metadata": {
    "colab": {
      "name": "ПИС_PR1.ipynb",
      "provenance": [],
      "collapsed_sections": [],
      "authorship_tag": "ABX9TyM2DxOIPATbOAmL3YYJyF3Y",
      "include_colab_link": true
    },
    "kernelspec": {
      "name": "python3",
      "display_name": "Python 3"
    }
  },
  "cells": [
    {
      "cell_type": "markdown",
      "metadata": {
        "id": "view-in-github",
        "colab_type": "text"
      },
      "source": [
        "<a href=\"https://colab.research.google.com/github/AdreyO/PIS_practice/blob/main/%D0%9F%D0%98%D0%A1_PR1.ipynb\" target=\"_parent\"><img src=\"https://colab.research.google.com/assets/colab-badge.svg\" alt=\"Open In Colab\"/></a>"
      ]
    },
    {
      "cell_type": "markdown",
      "metadata": {
        "id": "Mhno-4YqLz1y"
      },
      "source": [
        "#**Онищенко Андрей Андреевич**, КИ19-23Б, 23.02.2021"
      ]
    },
    {
      "cell_type": "code",
      "metadata": {
        "colab": {
          "base_uri": "https://localhost:8080/"
        },
        "id": "qElkUcUAL-vm",
        "outputId": "9cfc5fe7-0924-4fdd-caf3-34bdcda64ce5"
      },
      "source": [
        "print(\"Привет, мир!\")"
      ],
      "execution_count": 2,
      "outputs": [
        {
          "output_type": "stream",
          "text": [
            "Привет, мир!\n"
          ],
          "name": "stdout"
        }
      ]
    }
  ]
}